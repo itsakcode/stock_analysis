{
 "cells": [
  {
   "cell_type": "code",
   "execution_count": 32,
   "metadata": {},
   "outputs": [],
   "source": [
    "import pandas as pd\n",
    "import requests\n",
    "import os.path"
   ]
  },
  {
   "cell_type": "code",
   "execution_count": null,
   "metadata": {},
   "outputs": [],
   "source": [
    "def print_me():\n",
    "    print(\"i m here\")"
   ]
  },
  {
   "cell_type": "code",
   "execution_count": 33,
   "metadata": {},
   "outputs": [],
   "source": [
    "# dictionary to story function names\n",
    "function_names = {\n",
    "    \"TIME_SERIES_DAILY\": \"TIME_SERIES_DAILY\",\n",
    "    \"SYMBOL_SEARCH\": \"SYMBOL_SEARCH\"\n",
    "}\n",
    "\n",
    "# function to get full URL\n",
    "def getURL(fname, parameters):\n",
    "    base_url = \"https://www.alphavantage.co/query?\"\n",
    "    func_parameter = f\"function={fname}\"\n",
    "    #685BEOWCXWU9D3ZI\n",
    "    return f'{base_url}{func_parameter}{parameters}&apikey=6JY68IP90Q6339K7'"
   ]
  },
  {
   "cell_type": "code",
   "execution_count": 34,
   "metadata": {},
   "outputs": [],
   "source": [
    "def get_ticker(ticker_list):\n",
    "    ticker_select = \"\"\n",
    "\n",
    "    if not ticker_list:\n",
    "        user_input = input(\"Enter your search\")\n",
    "        search_params = f\"&keywords={user_input}\"\n",
    "\n",
    "        try:\n",
    "            search_url = getURL(function_names['SYMBOL_SEARCH'], search_params)\n",
    "\n",
    "            ticker_results = requests.get(search_url).json()\n",
    "\n",
    "            ticker_df = pd.DataFrame(ticker_results['bestMatches'])\n",
    "            ticker_list = ticker_df['1. symbol'].iloc[:5]\n",
    "        except:\n",
    "            print(f\"Not able to find {user_input}\")\n",
    "\n",
    "    if len(ticker_list):\n",
    "        while(True): \n",
    "            print(f\"Select a ticker to analyze\")\n",
    "            for index, value in enumerate(ticker_list):\n",
    "                print(f\"{index+1} - {value}\")\n",
    "            \n",
    "            print(f\"{'-' * 40}\")\n",
    "            user_selection = input(\"Enter your selection: \")\n",
    "            ticker_select = ticker_list[int(user_selection)-1]\n",
    "\n",
    "            break\n",
    "\n",
    "        print(ticker_select)\n",
    "    return ticker_select"
   ]
  },
  {
   "cell_type": "code",
   "execution_count": 38,
   "metadata": {},
   "outputs": [],
   "source": [
    "def prepare_ticker_data(ticker):\n",
    "    if os.path.isfile(\"../Datasets/daily_\"+ticker.upper()+\".csv\"):\n",
    "        return True\n",
    "\n",
    "    ticker_search_params = f\"&symbol={ticker}&outputsize=full\"\n",
    "    data_ready = False\n",
    "    try:\n",
    "        ticker_results = requests.get(getURL(function_names['TIME_SERIES_DAILY'], ticker_search_params)).json()\n",
    "\n",
    "        ticker_data_df = pd.DataFrame(ticker_results['Time Series (Daily)']).T\n",
    "\n",
    "        ticker_data_df.rename(columns={\n",
    "            '1. open': 'open',\n",
    "            '2. high': 'high',\n",
    "            '3. low': 'low',\n",
    "            '4. close': 'close',\n",
    "            '5. volume': 'volume' \n",
    "        }, inplace=True)\n",
    "        ticker_data_df\n",
    "\n",
    "        ticker_data_df.to_csv(\"../Datasets/daily_\"+ticker.upper()+\".csv\")\n",
    "        data_ready = True\n",
    "    except Exception as ex:\n",
    "        print(f\"No data found for {ticker}, error {ex}\")\n",
    "    \n",
    "    return data_ready"
   ]
  }
 ],
 "metadata": {
  "kernelspec": {
   "display_name": "dev",
   "language": "python",
   "name": "python3"
  },
  "language_info": {
   "codemirror_mode": {
    "name": "ipython",
    "version": 3
   },
   "file_extension": ".py",
   "mimetype": "text/x-python",
   "name": "python",
   "nbconvert_exporter": "python",
   "pygments_lexer": "ipython3",
   "version": "3.10.13"
  }
 },
 "nbformat": 4,
 "nbformat_minor": 2
}
